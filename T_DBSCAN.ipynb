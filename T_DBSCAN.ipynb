{
 "cells": [
  {
   "cell_type": "code",
   "execution_count": 8,
   "metadata": {},
   "outputs": [],
   "source": [
    "from glob import glob\n",
    "\n",
    "import folium\n",
    "import numpy as np\n",
    "from geopandas import GeoDataFrame, points_from_xy\n",
    "from numpy import sqrt\n",
    "from numpy.typing import NDArray\n",
    "from pandas import concat, DataFrame, DatetimeIndex, NamedAgg, read_csv, to_datetime\n",
    "from sklearn.decomposition import PCA\n",
    "from sklearn.metrics import pairwise_distances\n",
    "from skmob import TrajDataFrame"
   ]
  },
  {
   "cell_type": "code",
   "execution_count": 9,
   "metadata": {},
   "outputs": [],
   "source": [
    "data_files = []\n",
    "for folder in glob(\"../1_DATA/GeoLife/Data/*/Trajectory\"):\n",
    "    data_files.extend(glob(f\"{folder}/*.plt\"))"
   ]
  },
  {
   "cell_type": "code",
   "execution_count": 10,
   "metadata": {},
   "outputs": [],
   "source": [
    "columns = ('LAT','LON','NULL','ALT','DATETIME','DATE','TIME')\n",
    "raw_data = concat(\n",
    "    objs=[read_csv(f, skiprows=6, names=columns).assign(TRACK_ID=f) for f in data_files[:100]],\n",
    ")"
   ]
  },
  {
   "cell_type": "code",
   "execution_count": 11,
   "metadata": {},
   "outputs": [],
   "source": [
    "def format_datetime(df_: DataFrame) -> DataFrame:\n",
    "    DATETIME = to_datetime(df_.DATE + \"T\" + df_.TIME)\n",
    "    return (\n",
    "        df_\n",
    "            .assign(\n",
    "                DATETIME=DATETIME,\n",
    "                EPOCH=DatetimeIndex(DATETIME).asi8 // 10**9,\n",
    "                TRACK_ID=df_.TRACK_ID.str.replace(pat=f\"([^0-9])\", repl=\"\", regex=True)\n",
    "            )\n",
    "    )\n",
    "\n",
    "def convert_to_gpd(df_: DataFrame) -> GeoDataFrame:\n",
    "    return (\n",
    "        GeoDataFrame(\n",
    "            data=df_,\n",
    "            crs=\"EPSG:4326\",\n",
    "            geometry=points_from_xy(df_.LON, df_.LAT)\n",
    "        ) # type: ignore\n",
    "        .rename(columns=str.upper)\n",
    "        .set_geometry(\"GEOMETRY\")\n",
    "    )\n",
    "\n",
    "def format_data(df_: DataFrame) -> GeoDataFrame:\n",
    "    return convert_to_gpd(\n",
    "        df_\n",
    "            .pipe(format_datetime)\n",
    "            .drop(columns=[\"DATE\", \"TIME\", \"NULL\"])\n",
    "            .reset_index(drop=True)\n",
    "    )\n",
    "\n",
    "data_fmt: GeoDataFrame = format_data(raw_data)"
   ]
  },
  {
   "cell_type": "code",
   "execution_count": 12,
   "metadata": {},
   "outputs": [
    {
     "data": {
      "text/html": [
       "<div>\n",
       "<style scoped>\n",
       "    .dataframe tbody tr th:only-of-type {\n",
       "        vertical-align: middle;\n",
       "    }\n",
       "\n",
       "    .dataframe tbody tr th {\n",
       "        vertical-align: top;\n",
       "    }\n",
       "\n",
       "    .dataframe thead th {\n",
       "        text-align: right;\n",
       "    }\n",
       "</style>\n",
       "<table border=\"1\" class=\"dataframe\">\n",
       "  <thead>\n",
       "    <tr style=\"text-align: right;\">\n",
       "      <th></th>\n",
       "      <th>COUNT</th>\n",
       "    </tr>\n",
       "    <tr>\n",
       "      <th>TRACK_ID</th>\n",
       "      <th></th>\n",
       "    </tr>\n",
       "  </thead>\n",
       "  <tbody>\n",
       "    <tr>\n",
       "      <th>108120080523014153</th>\n",
       "      <td>11841</td>\n",
       "    </tr>\n",
       "    <tr>\n",
       "      <th>108120080524021405</th>\n",
       "      <td>2813</td>\n",
       "    </tr>\n",
       "    <tr>\n",
       "      <th>108120080530065051</th>\n",
       "      <td>1912</td>\n",
       "    </tr>\n",
       "    <tr>\n",
       "      <th>108120080530142423</th>\n",
       "      <td>1047</td>\n",
       "    </tr>\n",
       "    <tr>\n",
       "      <th>108120080531130634</th>\n",
       "      <td>1142</td>\n",
       "    </tr>\n",
       "    <tr>\n",
       "      <th>108120080602040534</th>\n",
       "      <td>1311</td>\n",
       "    </tr>\n",
       "    <tr>\n",
       "      <th>108120080607094559</th>\n",
       "      <td>4487</td>\n",
       "    </tr>\n",
       "    <tr>\n",
       "      <th>108120080619235223</th>\n",
       "      <td>1542</td>\n",
       "    </tr>\n",
       "    <tr>\n",
       "      <th>108120080622042835</th>\n",
       "      <td>1333</td>\n",
       "    </tr>\n",
       "    <tr>\n",
       "      <th>108120080724032435</th>\n",
       "      <td>5541</td>\n",
       "    </tr>\n",
       "    <tr>\n",
       "      <th>108120080725034606</th>\n",
       "      <td>2168</td>\n",
       "    </tr>\n",
       "    <tr>\n",
       "      <th>108120080730084406</th>\n",
       "      <td>1565</td>\n",
       "    </tr>\n",
       "    <tr>\n",
       "      <th>112820080517020041</th>\n",
       "      <td>1888</td>\n",
       "    </tr>\n",
       "    <tr>\n",
       "      <th>112820090228164717</th>\n",
       "      <td>6177</td>\n",
       "    </tr>\n",
       "    <tr>\n",
       "      <th>112820090406003943</th>\n",
       "      <td>1294</td>\n",
       "    </tr>\n",
       "    <tr>\n",
       "      <th>112820091006014008</th>\n",
       "      <td>1971</td>\n",
       "    </tr>\n",
       "    <tr>\n",
       "      <th>112820100212072530</th>\n",
       "      <td>1003</td>\n",
       "    </tr>\n",
       "    <tr>\n",
       "      <th>112820101003000343</th>\n",
       "      <td>1758</td>\n",
       "    </tr>\n",
       "    <tr>\n",
       "      <th>117720090919171122</th>\n",
       "      <td>2955</td>\n",
       "    </tr>\n",
       "  </tbody>\n",
       "</table>\n",
       "</div>"
      ],
      "text/plain": [
       "                    COUNT\n",
       "TRACK_ID                 \n",
       "108120080523014153  11841\n",
       "108120080524021405   2813\n",
       "108120080530065051   1912\n",
       "108120080530142423   1047\n",
       "108120080531130634   1142\n",
       "108120080602040534   1311\n",
       "108120080607094559   4487\n",
       "108120080619235223   1542\n",
       "108120080622042835   1333\n",
       "108120080724032435   5541\n",
       "108120080725034606   2168\n",
       "108120080730084406   1565\n",
       "112820080517020041   1888\n",
       "112820090228164717   6177\n",
       "112820090406003943   1294\n",
       "112820091006014008   1971\n",
       "112820100212072530   1003\n",
       "112820101003000343   1758\n",
       "117720090919171122   2955"
      ]
     },
     "execution_count": 12,
     "metadata": {},
     "output_type": "execute_result"
    }
   ],
   "source": [
    "track_groupby = data_fmt.groupby(\"TRACK_ID\")\n",
    "track_groups = list(track_groupby.groups)\n",
    "\n",
    "track_groupby.agg(COUNT=NamedAgg(\"LAT\", \"count\")).query(\"COUNT>1000\")"
   ]
  },
  {
   "cell_type": "code",
   "execution_count": 13,
   "metadata": {},
   "outputs": [],
   "source": [
    "trajectory: DataFrame = track_groupby.get_group(\"108120080607094559\")"
   ]
  },
  {
   "cell_type": "code",
   "execution_count": null,
   "metadata": {},
   "outputs": [],
   "source": []
  },
  {
   "cell_type": "code",
   "execution_count": 134,
   "metadata": {},
   "outputs": [],
   "source": [
    "D = (trajectory\n",
    "        .assign(MOVE_ABILITY=np.nan, DENSITY=np.nan, CORE_POINT=False, CLUSTER=-1)\n",
    "        .sort_values(by=\"EPOCH\")\n",
    "        .reset_index(drop=True)\n",
    "        .astype({\"CLUSTER\": \"Int16\"}))\n",
    "\n",
    "D_points = np.deg2rad(D[[\"LAT\", \"LON\"]].values)\n",
    "distance_matrix = pairwise_distances(D_points, metric=\"haversine\") * 6_371_008.7714"
   ]
  },
  {
   "cell_type": "code",
   "execution_count": 136,
   "metadata": {},
   "outputs": [],
   "source": [
    "nap = 11\n",
    "eps_t = 100\n",
    "ei_t = 0.1\n",
    "ma_t = 0.4\n",
    "\n",
    "MA_LOC = D.columns.get_loc(\"MOVE_ABILITY\")\n",
    "C_LOC = D.columns.get_loc(\"CLUSTER\")\n",
    "\n",
    "def move_ability(D: DataFrame, point_index: int, nap: int) -> float:\n",
    "    MA = D.iat[point_index, MA_LOC]\n",
    "    if MA != -1:\n",
    "        return MA\n",
    "    \n",
    "    point_index_i = max(point_index - nap, D.index[0])\n",
    "    point_index_j = min(point_index + nap + 1, D.index[-1])\n",
    "    direct_distance = distance_matrix[point_index_i][point_index_j]\n",
    "    curve_distance = sum(distance_matrix[i][i+1] for i in range(point_index_i, point_index_j))\n",
    "    MA = direct_distance / curve_distance\n",
    "    D.iat[point_index, MA_LOC] = MA\n",
    "    return MA\n",
    "\n",
    "def get_neighbours(D: DataFrame, point_index: int) -> set[int]:\n",
    "    N = set([point_index])\n",
    "    for neighbour_index in D.index[point_index+1:]:\n",
    "        distance_m = distance_matrix[point_index][neighbour_index]\n",
    "        if distance_m <= eps_t:\n",
    "            N.add(neighbour_index)\n",
    "        if move_ability(D, neighbour_index, nap) >= ma_t:\n",
    "            break\n",
    "\n",
    "    return N\n",
    "\n",
    "def expand_cluster(D: DataFrame, point_index: int, N: set[int], C: int) -> int:\n",
    "    max_index = point_index\n",
    "    D.iat[point_index, C_LOC] = C\n",
    "    current_neighbour = 0\n",
    "    while current_neighbour < len(N):\n",
    "        neighbour_index = sorted(N)[current_neighbour]\n",
    "\n",
    "        if neighbour_index > max_index:\n",
    "            max_index = neighbour_index\n",
    "\n",
    "        N1 = get_neighbours(D, point_index)\n",
    "        if D.iat[neighbour_index, C_LOC] == -1 or len(N1) >= 4:\n",
    "            D.iat[neighbour_index, C_LOC] = C\n",
    "            if len(N1) >= 4:\n",
    "                N = N.union(N1)\n",
    "        current_neighbour += 1\n",
    "\n",
    "    return max_index\n",
    "\n",
    "\n",
    "C = 0\n",
    "\n",
    "# as the points of a trajectory are time ordered, the points with an index < than max_index \n",
    "# are either identified as noise or belong to the previous cluster. Only points where the \n",
    "# index > max_index are processed.\n",
    "max_index = -1\n",
    "\n",
    "for point_index in D.index:\n",
    "    # ignore points where point_index <= max_index\n",
    "    if point_index <= max_index:\n",
    "        continue\n",
    "\n",
    "    # ignore points where MA >= 0.4\n",
    "    if move_ability(D, point_index, nap) >= ma_t:\n",
    "        # mark point as noise\n",
    "        #D.iat[point_index, C_LOC] = -1\n",
    "        continue\n",
    "\n",
    "    # get neighbours within eps_t around point at point_index\n",
    "    N = get_neighbours(D, point_index)\n",
    "    if len(N) >= 4:\n",
    "        C += 1\n",
    "        max_index = expand_cluster(D, point_index, N, C)\n",
    "\n",
    "    \n",
    "\n"
   ]
  },
  {
   "cell_type": "code",
   "execution_count": null,
   "metadata": {},
   "outputs": [],
   "source": [
    "D.index.is_monotonic_increasing\n",
    "D.index.size\n",
    "D.index.argmin()\n",
    "D.index.argmax()"
   ]
  },
  {
   "cell_type": "code",
   "execution_count": 18,
   "metadata": {},
   "outputs": [],
   "source": [
    "from sklearn.neighbors import BallTree"
   ]
  },
  {
   "cell_type": "code",
   "execution_count": 60,
   "metadata": {},
   "outputs": [],
   "source": [
    "b_tree = BallTree(data=D_points, leaf_size=2, metric=\"haversine\")"
   ]
  },
  {
   "cell_type": "code",
   "execution_count": 69,
   "metadata": {},
   "outputs": [
    {
     "data": {
      "text/plain": [
       "array([[0.69803913, 2.03029843]])"
      ]
     },
     "execution_count": 69,
     "metadata": {},
     "output_type": "execute_result"
    }
   ],
   "source": [
    "D_points[0, None]"
   ]
  },
  {
   "cell_type": "code",
   "execution_count": 70,
   "metadata": {},
   "outputs": [],
   "source": [
    "R = 6_371_008.7714"
   ]
  },
  {
   "cell_type": "code",
   "execution_count": 81,
   "metadata": {},
   "outputs": [
    {
     "data": {
      "text/plain": [
       "6371.0087714"
      ]
     },
     "execution_count": 81,
     "metadata": {},
     "output_type": "execute_result"
    }
   ],
   "source": []
  },
  {
   "cell_type": "code",
   "execution_count": 82,
   "metadata": {},
   "outputs": [
    {
     "data": {
      "text/plain": [
       "array([16])"
      ]
     },
     "execution_count": 82,
     "metadata": {},
     "output_type": "execute_result"
    }
   ],
   "source": [
    "b_tree.query_radius(X=D_points[0, None], r=10/R, count_only=True)"
   ]
  },
  {
   "cell_type": "code",
   "execution_count": 100,
   "metadata": {},
   "outputs": [],
   "source": [
    "indices, distances = b_tree.query_radius(X=D_points[0, None], r=20/R, return_distance=True, sort_results=False)"
   ]
  },
  {
   "cell_type": "code",
   "execution_count": 101,
   "metadata": {},
   "outputs": [
    {
     "data": {
      "text/plain": [
       "array([array([44, 43,  0, 30, 42, 37, 35, 36, 32, 31, 41, 40, 29, 34, 38, 39, 33,\n",
       "              28,  2,  3,  1, 27])                                               ],\n",
       "      dtype=object)"
      ]
     },
     "execution_count": 101,
     "metadata": {},
     "output_type": "execute_result"
    }
   ],
   "source": [
    "indices"
   ]
  },
  {
   "cell_type": "code",
   "execution_count": 102,
   "metadata": {},
   "outputs": [
    {
     "data": {
      "text/plain": [
       "array([array([10.86171577,  3.39873426,  0.        ,  7.28308335,  5.26159746,\n",
       "               8.59156039,  8.59366636,  8.67393533,  7.96055477,  7.75723409,\n",
       "               8.26161881,  8.53544951,  8.32846961,  8.45229731,  8.57662496,\n",
       "               8.45727789,  8.19928711, 12.36609747, 16.092142  , 17.26628332,\n",
       "              17.82656862, 18.57488917])                                      ],\n",
       "      dtype=object)"
      ]
     },
     "execution_count": 102,
     "metadata": {},
     "output_type": "execute_result"
    }
   ],
   "source": [
    "distances * R"
   ]
  },
  {
   "cell_type": "code",
   "execution_count": 99,
   "metadata": {},
   "outputs": [
    {
     "data": {
      "text/plain": [
       "array([  0.        ,  17.82656862,  16.092142  ,  17.26628332,\n",
       "       108.12676184, 110.23292441, 114.86329506, 117.97611062,\n",
       "       122.27307052, 126.24645732, 126.53960036, 129.66675795,\n",
       "       130.74370539, 132.97280696, 134.20775754, 137.24850397,\n",
       "       137.44595433, 137.84410473, 140.25928716, 119.82875527,\n",
       "       109.55628047,  97.03781981,  82.82906994,  67.2497016 ,\n",
       "        51.09112667,  37.53265761,  26.91971906,  18.57488917,\n",
       "        12.36609747,   8.32846961,   7.28308335,   7.75723409,\n",
       "         7.96055477,   8.19928711,   8.45229731,   8.59366636,\n",
       "         8.67393533,   8.59156039])"
      ]
     },
     "execution_count": 99,
     "metadata": {},
     "output_type": "execute_result"
    }
   ],
   "source": [
    "distance_matrix[0][:38]"
   ]
  },
  {
   "cell_type": "code",
   "execution_count": 189,
   "metadata": {},
   "outputs": [
    {
     "data": {
      "text/plain": [
       "False    3045\n",
       "True     1442\n",
       "Name: CORE_POINT, dtype: int64"
      ]
     },
     "execution_count": 189,
     "metadata": {},
     "output_type": "execute_result"
    }
   ],
   "source": [
    "D.CORE_POINT.value_counts()"
   ]
  },
  {
   "cell_type": "code",
   "execution_count": 190,
   "metadata": {},
   "outputs": [],
   "source": [
    "C = 0\n",
    "core_point_mask = D.CORE_POINT==True\n",
    "for key, group in D[core_point_mask].groupby((~core_point_mask).cumsum()):\n",
    "    D.loc[group.index, \"CLUSTER\"] = C\n",
    "    C += 1"
   ]
  },
  {
   "cell_type": "code",
   "execution_count": 137,
   "metadata": {},
   "outputs": [
    {
     "data": {
      "text/plain": [
       "<IntegerArray>\n",
       "[1, -1, 2, 3, 4, 5, 6, 7, 8, 9, 10, 11, 12, 13, 14, 15, 16]\n",
       "Length: 17, dtype: Int16"
      ]
     },
     "execution_count": 137,
     "metadata": {},
     "output_type": "execute_result"
    }
   ],
   "source": [
    "D.CLUSTER.unique()"
   ]
  },
  {
   "cell_type": "code",
   "execution_count": 131,
   "metadata": {},
   "outputs": [
    {
     "data": {
      "text/html": [
       "<div>\n",
       "<style scoped>\n",
       "    .dataframe tbody tr th:only-of-type {\n",
       "        vertical-align: middle;\n",
       "    }\n",
       "\n",
       "    .dataframe tbody tr th {\n",
       "        vertical-align: top;\n",
       "    }\n",
       "\n",
       "    .dataframe thead th {\n",
       "        text-align: right;\n",
       "    }\n",
       "</style>\n",
       "<table border=\"1\" class=\"dataframe\">\n",
       "  <thead>\n",
       "    <tr style=\"text-align: right;\">\n",
       "      <th></th>\n",
       "      <th>LAT</th>\n",
       "      <th>LON</th>\n",
       "      <th>ALT</th>\n",
       "      <th>DATETIME</th>\n",
       "      <th>TRACK_ID</th>\n",
       "      <th>EPOCH</th>\n",
       "      <th>GEOMETRY</th>\n",
       "      <th>MOVE_ABILITY</th>\n",
       "      <th>DENSITY</th>\n",
       "      <th>CORE_POINT</th>\n",
       "      <th>CLUSTER</th>\n",
       "    </tr>\n",
       "  </thead>\n",
       "  <tbody>\n",
       "    <tr>\n",
       "      <th>2546</th>\n",
       "      <td>40.006623</td>\n",
       "      <td>116.323210</td>\n",
       "      <td>238.0</td>\n",
       "      <td>2008-06-07 13:55:27</td>\n",
       "      <td>108120080607094559</td>\n",
       "      <td>1212846927</td>\n",
       "      <td>POINT (116.32321 40.00662)</td>\n",
       "      <td>NaN</td>\n",
       "      <td>NaN</td>\n",
       "      <td>False</td>\n",
       "      <td>16</td>\n",
       "    </tr>\n",
       "    <tr>\n",
       "      <th>2547</th>\n",
       "      <td>40.006626</td>\n",
       "      <td>116.323131</td>\n",
       "      <td>243.0</td>\n",
       "      <td>2008-06-07 13:55:29</td>\n",
       "      <td>108120080607094559</td>\n",
       "      <td>1212846929</td>\n",
       "      <td>POINT (116.32313 40.00663)</td>\n",
       "      <td>NaN</td>\n",
       "      <td>NaN</td>\n",
       "      <td>False</td>\n",
       "      <td>16</td>\n",
       "    </tr>\n",
       "    <tr>\n",
       "      <th>2548</th>\n",
       "      <td>40.006636</td>\n",
       "      <td>116.323070</td>\n",
       "      <td>252.0</td>\n",
       "      <td>2008-06-07 13:55:31</td>\n",
       "      <td>108120080607094559</td>\n",
       "      <td>1212846931</td>\n",
       "      <td>POINT (116.32307 40.00664)</td>\n",
       "      <td>NaN</td>\n",
       "      <td>NaN</td>\n",
       "      <td>False</td>\n",
       "      <td>16</td>\n",
       "    </tr>\n",
       "    <tr>\n",
       "      <th>2549</th>\n",
       "      <td>40.006626</td>\n",
       "      <td>116.323002</td>\n",
       "      <td>258.0</td>\n",
       "      <td>2008-06-07 13:55:33</td>\n",
       "      <td>108120080607094559</td>\n",
       "      <td>1212846933</td>\n",
       "      <td>POINT (116.32300 40.00663)</td>\n",
       "      <td>NaN</td>\n",
       "      <td>NaN</td>\n",
       "      <td>False</td>\n",
       "      <td>16</td>\n",
       "    </tr>\n",
       "    <tr>\n",
       "      <th>2550</th>\n",
       "      <td>40.006614</td>\n",
       "      <td>116.322945</td>\n",
       "      <td>261.0</td>\n",
       "      <td>2008-06-07 13:55:35</td>\n",
       "      <td>108120080607094559</td>\n",
       "      <td>1212846935</td>\n",
       "      <td>POINT (116.32295 40.00661)</td>\n",
       "      <td>NaN</td>\n",
       "      <td>NaN</td>\n",
       "      <td>False</td>\n",
       "      <td>16</td>\n",
       "    </tr>\n",
       "    <tr>\n",
       "      <th>...</th>\n",
       "      <td>...</td>\n",
       "      <td>...</td>\n",
       "      <td>...</td>\n",
       "      <td>...</td>\n",
       "      <td>...</td>\n",
       "      <td>...</td>\n",
       "      <td>...</td>\n",
       "      <td>...</td>\n",
       "      <td>...</td>\n",
       "      <td>...</td>\n",
       "      <td>...</td>\n",
       "    </tr>\n",
       "    <tr>\n",
       "      <th>4482</th>\n",
       "      <td>40.007503</td>\n",
       "      <td>116.323146</td>\n",
       "      <td>148.0</td>\n",
       "      <td>2008-06-07 15:46:13</td>\n",
       "      <td>108120080607094559</td>\n",
       "      <td>1212853573</td>\n",
       "      <td>POINT (116.32315 40.00750)</td>\n",
       "      <td>NaN</td>\n",
       "      <td>NaN</td>\n",
       "      <td>False</td>\n",
       "      <td>16</td>\n",
       "    </tr>\n",
       "    <tr>\n",
       "      <th>4483</th>\n",
       "      <td>40.007495</td>\n",
       "      <td>116.323151</td>\n",
       "      <td>148.0</td>\n",
       "      <td>2008-06-07 15:46:15</td>\n",
       "      <td>108120080607094559</td>\n",
       "      <td>1212853575</td>\n",
       "      <td>POINT (116.32315 40.00749)</td>\n",
       "      <td>NaN</td>\n",
       "      <td>NaN</td>\n",
       "      <td>False</td>\n",
       "      <td>16</td>\n",
       "    </tr>\n",
       "    <tr>\n",
       "      <th>4484</th>\n",
       "      <td>40.007487</td>\n",
       "      <td>116.323162</td>\n",
       "      <td>147.0</td>\n",
       "      <td>2008-06-07 15:46:17</td>\n",
       "      <td>108120080607094559</td>\n",
       "      <td>1212853577</td>\n",
       "      <td>POINT (116.32316 40.00749)</td>\n",
       "      <td>NaN</td>\n",
       "      <td>NaN</td>\n",
       "      <td>False</td>\n",
       "      <td>16</td>\n",
       "    </tr>\n",
       "    <tr>\n",
       "      <th>4485</th>\n",
       "      <td>40.007471</td>\n",
       "      <td>116.323152</td>\n",
       "      <td>147.0</td>\n",
       "      <td>2008-06-07 15:46:19</td>\n",
       "      <td>108120080607094559</td>\n",
       "      <td>1212853579</td>\n",
       "      <td>POINT (116.32315 40.00747)</td>\n",
       "      <td>NaN</td>\n",
       "      <td>NaN</td>\n",
       "      <td>False</td>\n",
       "      <td>16</td>\n",
       "    </tr>\n",
       "    <tr>\n",
       "      <th>4486</th>\n",
       "      <td>40.007469</td>\n",
       "      <td>116.323139</td>\n",
       "      <td>147.0</td>\n",
       "      <td>2008-06-07 15:46:21</td>\n",
       "      <td>108120080607094559</td>\n",
       "      <td>1212853581</td>\n",
       "      <td>POINT (116.32314 40.00747)</td>\n",
       "      <td>NaN</td>\n",
       "      <td>NaN</td>\n",
       "      <td>False</td>\n",
       "      <td>16</td>\n",
       "    </tr>\n",
       "  </tbody>\n",
       "</table>\n",
       "<p>762 rows × 11 columns</p>\n",
       "</div>"
      ],
      "text/plain": [
       "            LAT         LON    ALT            DATETIME            TRACK_ID  \\\n",
       "2546  40.006623  116.323210  238.0 2008-06-07 13:55:27  108120080607094559   \n",
       "2547  40.006626  116.323131  243.0 2008-06-07 13:55:29  108120080607094559   \n",
       "2548  40.006636  116.323070  252.0 2008-06-07 13:55:31  108120080607094559   \n",
       "2549  40.006626  116.323002  258.0 2008-06-07 13:55:33  108120080607094559   \n",
       "2550  40.006614  116.322945  261.0 2008-06-07 13:55:35  108120080607094559   \n",
       "...         ...         ...    ...                 ...                 ...   \n",
       "4482  40.007503  116.323146  148.0 2008-06-07 15:46:13  108120080607094559   \n",
       "4483  40.007495  116.323151  148.0 2008-06-07 15:46:15  108120080607094559   \n",
       "4484  40.007487  116.323162  147.0 2008-06-07 15:46:17  108120080607094559   \n",
       "4485  40.007471  116.323152  147.0 2008-06-07 15:46:19  108120080607094559   \n",
       "4486  40.007469  116.323139  147.0 2008-06-07 15:46:21  108120080607094559   \n",
       "\n",
       "           EPOCH                    GEOMETRY  MOVE_ABILITY  DENSITY  \\\n",
       "2546  1212846927  POINT (116.32321 40.00662)           NaN      NaN   \n",
       "2547  1212846929  POINT (116.32313 40.00663)           NaN      NaN   \n",
       "2548  1212846931  POINT (116.32307 40.00664)           NaN      NaN   \n",
       "2549  1212846933  POINT (116.32300 40.00663)           NaN      NaN   \n",
       "2550  1212846935  POINT (116.32295 40.00661)           NaN      NaN   \n",
       "...          ...                         ...           ...      ...   \n",
       "4482  1212853573  POINT (116.32315 40.00750)           NaN      NaN   \n",
       "4483  1212853575  POINT (116.32315 40.00749)           NaN      NaN   \n",
       "4484  1212853577  POINT (116.32316 40.00749)           NaN      NaN   \n",
       "4485  1212853579  POINT (116.32315 40.00747)           NaN      NaN   \n",
       "4486  1212853581  POINT (116.32314 40.00747)           NaN      NaN   \n",
       "\n",
       "      CORE_POINT  CLUSTER  \n",
       "2546       False       16  \n",
       "2547       False       16  \n",
       "2548       False       16  \n",
       "2549       False       16  \n",
       "2550       False       16  \n",
       "...          ...      ...  \n",
       "4482       False       16  \n",
       "4483       False       16  \n",
       "4484       False       16  \n",
       "4485       False       16  \n",
       "4486       False       16  \n",
       "\n",
       "[762 rows x 11 columns]"
      ]
     },
     "execution_count": 131,
     "metadata": {},
     "output_type": "execute_result"
    }
   ],
   "source": [
    "D.loc[D.CLUSTER==16]#.index.is_monotonic_increasing"
   ]
  },
  {
   "cell_type": "code",
   "execution_count": 132,
   "metadata": {},
   "outputs": [],
   "source": [
    "raw_traj_df = TrajDataFrame(\n",
    "    data=trajectory,\n",
    "    latitude=\"LAT\",\n",
    "    longitude=\"LON\",\n",
    "    datetime=\"EPOCH\",\n",
    "    user_id=\"TRACK_ID\",\n",
    "    #trajectory_id=\"\",\n",
    "    timestamp=True\n",
    ")\n",
    "\n",
    "raw_traj_map: folium.Map = raw_traj_df.plot_trajectory(max_users=1, max_points=None)  # type: ignore\n",
    "raw_traj_map.save(\"../RAW_TRAJECTORY.html\")"
   ]
  },
  {
   "cell_type": "code",
   "execution_count": 138,
   "metadata": {},
   "outputs": [],
   "source": [
    "traj_df = TrajDataFrame(\n",
    "    data=D.loc[D.CLUSTER>-1],\n",
    "    latitude=\"LAT\",\n",
    "    longitude=\"LON\",\n",
    "    datetime=\"EPOCH\",\n",
    "    user_id=\"CLUSTER\",\n",
    "    #trajectory_id=\"\",\n",
    "    timestamp=True\n",
    ") # type: ignore\n",
    "\n",
    "traj_map: folium.Map = traj_df.plot_trajectory(max_users=100, max_points=None) # type: ignore\n",
    "traj_map.save(\"../TRAJECTORY.html\")"
   ]
  },
  {
   "cell_type": "code",
   "execution_count": null,
   "metadata": {},
   "outputs": [],
   "source": []
  },
  {
   "cell_type": "code",
   "execution_count": null,
   "metadata": {},
   "outputs": [],
   "source": []
  },
  {
   "cell_type": "code",
   "execution_count": null,
   "metadata": {},
   "outputs": [],
   "source": []
  },
  {
   "cell_type": "code",
   "execution_count": null,
   "metadata": {},
   "outputs": [],
   "source": []
  },
  {
   "cell_type": "code",
   "execution_count": null,
   "metadata": {},
   "outputs": [],
   "source": []
  },
  {
   "cell_type": "code",
   "execution_count": null,
   "metadata": {},
   "outputs": [],
   "source": []
  },
  {
   "cell_type": "code",
   "execution_count": 69,
   "metadata": {},
   "outputs": [],
   "source": [
    "from sklearn.preprocessing import StandardScaler\n",
    "\n",
    "def apply_weight(values):\n",
    "    scaler = StandardScaler()\n",
    "    scaled_values = scaler.fit_transform(values.reshape(-1, 1))\n",
    "\n",
    "    # Apply greater weight to values between 0 and 1\n",
    "    weights = 1 / (1 + abs(scaled_values))\n",
    "\n",
    "    return weights.flatten()"
   ]
  },
  {
   "cell_type": "code",
   "execution_count": 78,
   "metadata": {},
   "outputs": [
    {
     "data": {
      "text/plain": [
       "array([ 82.12300639,  82.36369492,  82.10989154,  78.59745422,\n",
       "        72.67386174,  64.19480085,  53.42372927,  40.0432124 ,\n",
       "        27.09021102,  17.02411867,   9.71350023,  15.39157728,\n",
       "        31.25738509,  45.62193656,  60.94431427,  77.87264998,\n",
       "        95.42988067, 113.08619474, 132.41556827, 150.9079436 ,\n",
       "       160.83758197])"
      ]
     },
     "execution_count": 78,
     "metadata": {},
     "output_type": "execute_result"
    }
   ],
   "source": [
    "distances"
   ]
  },
  {
   "cell_type": "code",
   "execution_count": 76,
   "metadata": {},
   "outputs": [
    {
     "data": {
      "text/plain": [
       "array([0.0239371 , 0.02386715, 0.02394092, 0.02501081, 0.02704943,\n",
       "       0.0306222 , 0.03679613, 0.04909162, 0.07256445, 0.11547067,\n",
       "       0.20237672, 0.12771832, 0.0628903 , 0.04308862, 0.03225545,\n",
       "       0.0252436 , 0.02059927, 0.01738308, 0.01484558, 0.01302639,\n",
       "       0.01222218])"
      ]
     },
     "execution_count": 76,
     "metadata": {},
     "output_type": "execute_result"
    }
   ],
   "source": []
  },
  {
   "cell_type": "code",
   "execution_count": 77,
   "metadata": {},
   "outputs": [
    {
     "data": {
      "text/plain": [
       "41.28151268361805"
      ]
     },
     "execution_count": 77,
     "metadata": {},
     "output_type": "execute_result"
    }
   ],
   "source": [
    "np.sum(weights * distances)"
   ]
  },
  {
   "cell_type": "code",
   "execution_count": 79,
   "metadata": {},
   "outputs": [
    {
     "data": {
      "text/plain": [
       "1493.122513663945"
      ]
     },
     "execution_count": 79,
     "metadata": {},
     "output_type": "execute_result"
    }
   ],
   "source": [
    "np.sum(distances)"
   ]
  },
  {
   "cell_type": "code",
   "execution_count": null,
   "metadata": {},
   "outputs": [],
   "source": []
  }
 ],
 "metadata": {
  "kernelspec": {
   "display_name": "data_science",
   "language": "python",
   "name": "python3"
  },
  "language_info": {
   "codemirror_mode": {
    "name": "ipython",
    "version": 3
   },
   "file_extension": ".py",
   "mimetype": "text/x-python",
   "name": "python",
   "nbconvert_exporter": "python",
   "pygments_lexer": "ipython3",
   "version": "3.11.5"
  },
  "orig_nbformat": 4
 },
 "nbformat": 4,
 "nbformat_minor": 2
}
