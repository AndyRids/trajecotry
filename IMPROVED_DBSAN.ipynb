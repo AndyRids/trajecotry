{
 "cells": [
  {
   "cell_type": "code",
   "execution_count": 1,
   "metadata": {},
   "outputs": [],
   "source": [
    "from glob import glob\n",
    "\n",
    "import numpy as np\n",
    "\n",
    "from geopandas import GeoDataFrame, points_from_xy\n",
    "from numpy.typing import NDArray\n",
    "from pandas import concat, DataFrame, DatetimeIndex, NamedAgg, read_csv, to_datetime\n",
    "from sklearn.metrics import pairwise_distances\n",
    "from skmob import TrajDataFrame"
   ]
  },
  {
   "cell_type": "code",
   "execution_count": 2,
   "metadata": {},
   "outputs": [],
   "source": [
    "# data_files = glob(\"./data/unipi_ais/synopses/2018/*.csv\")\n",
    "\n",
    "# raw_data: DataFrame = (\n",
    "#     read_csv(data_files[0])\n",
    "#         .rename(columns=str.upper)\n",
    "#         .rename(columns={\"T\": \"EPOCH\"})\n",
    "#         .pipe(lambda df_:\n",
    "#             df_\n",
    "#                 .assign(\n",
    "#                     EPOCH=df_.EPOCH / 1000,\n",
    "#                     ANNOTATIONS=df_.ANNOTATIONS.astype(\"string\").str.replace(r\"\\[|\\]|'| \", \"\", regex=True),\n",
    "#                     HEADING=df_.HEADING.round(3).astype(\"float32\"),\n",
    "#                     SPEED=df_.SPEED.round(3).astype(\"float32\"),\n",
    "#                 )\n",
    "#                 .loc[\n",
    "#                     df_.VESSEL_ID.isin(df_.groupby(\"VESSEL_ID\").agg(\"count\").query(\"EPOCH>4\").index)\n",
    "#                 ]\n",
    "#         )\n",
    "#         .sort_values(by=\"EPOCH\", ascending=True)\n",
    "#         .reset_index(drop=True)\n",
    "#         .astype({\"VESSEL_ID\": \"string\", \"EPOCH\": \"int64\"})\n",
    "#         .reindex(\n",
    "#             columns=[\"EPOCH\", \"VESSEL_ID\", \"LON\", \"LAT\", \"HEADING\", \"SPEED\", \"ANNOTATIONS\"]\n",
    "#         )\n",
    "# )"
   ]
  },
  {
   "cell_type": "code",
   "execution_count": 3,
   "metadata": {},
   "outputs": [],
   "source": [
    "data_files = []\n",
    "for folder in glob(\"../datasets/GeoLife/Data/*/Trajectory\"):\n",
    "    data_files.extend(glob(f\"{folder}/*.plt\"))"
   ]
  },
  {
   "cell_type": "code",
   "execution_count": 4,
   "metadata": {},
   "outputs": [],
   "source": [
    "columns = ('LAT','LON','NULL','ALT','DATETIME','DATE','TIME')\n",
    "raw_data = concat(\n",
    "    objs=[read_csv(f, skiprows=6, names=columns).assign(TRACK_ID=f) for f in data_files[:100]],\n",
    ")"
   ]
  },
  {
   "cell_type": "code",
   "execution_count": 5,
   "metadata": {},
   "outputs": [],
   "source": [
    "def format_datetime(df_: DataFrame) -> DataFrame:\n",
    "    DATETIME = to_datetime(df_.DATE + \"T\" + df_.TIME)\n",
    "    return (\n",
    "        df_\n",
    "            .assign(\n",
    "                DATETIME=DATETIME,\n",
    "                EPOCH=DatetimeIndex(DATETIME).asi8 // 10**9,\n",
    "                TRACK_ID=df_.TRACK_ID.str.replace(pat=f\"([^0-9])\", repl=\"\", regex=True)\n",
    "            )\n",
    "    )\n",
    "\n",
    "def convert_to_gpd(df_: DataFrame) -> GeoDataFrame:\n",
    "    return (\n",
    "        GeoDataFrame(\n",
    "            data=df_,\n",
    "            crs=\"EPSG:4326\",\n",
    "            geometry=points_from_xy(df_.LON, df_.LAT)\n",
    "        ) # type: ignore\n",
    "        .rename(columns=str.upper)\n",
    "        .set_geometry(\"GEOMETRY\")\n",
    "    )\n",
    "\n",
    "def format_data(df_: DataFrame) -> GeoDataFrame:\n",
    "    return convert_to_gpd(\n",
    "        df_\n",
    "            .pipe(format_datetime)\n",
    "            .drop(columns=[\"DATE\", \"TIME\", \"NULL\"])\n",
    "            .reset_index(drop=True)\n",
    "    )\n",
    "\n",
    "data_fmt: GeoDataFrame = format_data(raw_data)"
   ]
  },
  {
   "cell_type": "code",
   "execution_count": 6,
   "metadata": {},
   "outputs": [
    {
     "data": {
      "text/html": [
       "<div>\n",
       "<style scoped>\n",
       "    .dataframe tbody tr th:only-of-type {\n",
       "        vertical-align: middle;\n",
       "    }\n",
       "\n",
       "    .dataframe tbody tr th {\n",
       "        vertical-align: top;\n",
       "    }\n",
       "\n",
       "    .dataframe thead th {\n",
       "        text-align: right;\n",
       "    }\n",
       "</style>\n",
       "<table border=\"1\" class=\"dataframe\">\n",
       "  <thead>\n",
       "    <tr style=\"text-align: right;\">\n",
       "      <th></th>\n",
       "      <th>LAT</th>\n",
       "      <th>LON</th>\n",
       "      <th>ALT</th>\n",
       "      <th>DATETIME</th>\n",
       "      <th>TRACK_ID</th>\n",
       "      <th>EPOCH</th>\n",
       "      <th>GEOMETRY</th>\n",
       "    </tr>\n",
       "  </thead>\n",
       "  <tbody>\n",
       "    <tr>\n",
       "      <th>0</th>\n",
       "      <td>39.976275</td>\n",
       "      <td>116.330764</td>\n",
       "      <td>492.0</td>\n",
       "      <td>2008-07-21 09:33:04</td>\n",
       "      <td>08120080721093304</td>\n",
       "      <td>1216632784</td>\n",
       "      <td>POINT (116.33076 39.97628)</td>\n",
       "    </tr>\n",
       "    <tr>\n",
       "      <th>1</th>\n",
       "      <td>39.976404</td>\n",
       "      <td>116.330797</td>\n",
       "      <td>492.0</td>\n",
       "      <td>2008-07-21 09:33:10</td>\n",
       "      <td>08120080721093304</td>\n",
       "      <td>1216632790</td>\n",
       "      <td>POINT (116.33080 39.97640)</td>\n",
       "    </tr>\n",
       "    <tr>\n",
       "      <th>2</th>\n",
       "      <td>39.976414</td>\n",
       "      <td>116.330809</td>\n",
       "      <td>492.0</td>\n",
       "      <td>2008-07-21 09:33:15</td>\n",
       "      <td>08120080721093304</td>\n",
       "      <td>1216632795</td>\n",
       "      <td>POINT (116.33081 39.97641)</td>\n",
       "    </tr>\n",
       "    <tr>\n",
       "      <th>3</th>\n",
       "      <td>39.976455</td>\n",
       "      <td>116.330813</td>\n",
       "      <td>492.0</td>\n",
       "      <td>2008-07-21 09:33:20</td>\n",
       "      <td>08120080721093304</td>\n",
       "      <td>1216632800</td>\n",
       "      <td>POINT (116.33081 39.97646)</td>\n",
       "    </tr>\n",
       "    <tr>\n",
       "      <th>4</th>\n",
       "      <td>39.976433</td>\n",
       "      <td>116.330810</td>\n",
       "      <td>492.0</td>\n",
       "      <td>2008-07-21 09:33:25</td>\n",
       "      <td>08120080721093304</td>\n",
       "      <td>1216632805</td>\n",
       "      <td>POINT (116.33081 39.97643)</td>\n",
       "    </tr>\n",
       "  </tbody>\n",
       "</table>\n",
       "</div>"
      ],
      "text/plain": [
       "         LAT         LON    ALT            DATETIME           TRACK_ID  \\\n",
       "0  39.976275  116.330764  492.0 2008-07-21 09:33:04  08120080721093304   \n",
       "1  39.976404  116.330797  492.0 2008-07-21 09:33:10  08120080721093304   \n",
       "2  39.976414  116.330809  492.0 2008-07-21 09:33:15  08120080721093304   \n",
       "3  39.976455  116.330813  492.0 2008-07-21 09:33:20  08120080721093304   \n",
       "4  39.976433  116.330810  492.0 2008-07-21 09:33:25  08120080721093304   \n",
       "\n",
       "        EPOCH                    GEOMETRY  \n",
       "0  1216632784  POINT (116.33076 39.97628)  \n",
       "1  1216632790  POINT (116.33080 39.97640)  \n",
       "2  1216632795  POINT (116.33081 39.97641)  \n",
       "3  1216632800  POINT (116.33081 39.97646)  \n",
       "4  1216632805  POINT (116.33081 39.97643)  "
      ]
     },
     "execution_count": 6,
     "metadata": {},
     "output_type": "execute_result"
    }
   ],
   "source": [
    "data_fmt.head(5)"
   ]
  },
  {
   "cell_type": "code",
   "execution_count": 7,
   "metadata": {},
   "outputs": [],
   "source": [
    "track_groupby = data_fmt.groupby(\"TRACK_ID\")\n",
    "track_groups = list(track_groupby.groups)\n",
    "\n",
    "trajectory: DataFrame = track_groupby.get_group(\"08120080523014153\")"
   ]
  },
  {
   "cell_type": "code",
   "execution_count": 8,
   "metadata": {},
   "outputs": [
    {
     "data": {
      "text/html": [
       "<div>\n",
       "<style scoped>\n",
       "    .dataframe tbody tr th:only-of-type {\n",
       "        vertical-align: middle;\n",
       "    }\n",
       "\n",
       "    .dataframe tbody tr th {\n",
       "        vertical-align: top;\n",
       "    }\n",
       "\n",
       "    .dataframe thead th {\n",
       "        text-align: right;\n",
       "    }\n",
       "</style>\n",
       "<table border=\"1\" class=\"dataframe\">\n",
       "  <thead>\n",
       "    <tr style=\"text-align: right;\">\n",
       "      <th></th>\n",
       "      <th>COUNT</th>\n",
       "    </tr>\n",
       "    <tr>\n",
       "      <th>TRACK_ID</th>\n",
       "      <th></th>\n",
       "    </tr>\n",
       "  </thead>\n",
       "  <tbody>\n",
       "    <tr>\n",
       "      <th>08120080523014153</th>\n",
       "      <td>11841</td>\n",
       "    </tr>\n",
       "    <tr>\n",
       "      <th>08120080524021405</th>\n",
       "      <td>2813</td>\n",
       "    </tr>\n",
       "    <tr>\n",
       "      <th>08120080530065051</th>\n",
       "      <td>1912</td>\n",
       "    </tr>\n",
       "    <tr>\n",
       "      <th>08120080530142423</th>\n",
       "      <td>1047</td>\n",
       "    </tr>\n",
       "    <tr>\n",
       "      <th>08120080531130634</th>\n",
       "      <td>1142</td>\n",
       "    </tr>\n",
       "    <tr>\n",
       "      <th>08120080602040534</th>\n",
       "      <td>1311</td>\n",
       "    </tr>\n",
       "    <tr>\n",
       "      <th>08120080607094559</th>\n",
       "      <td>4487</td>\n",
       "    </tr>\n",
       "    <tr>\n",
       "      <th>08120080619235223</th>\n",
       "      <td>1542</td>\n",
       "    </tr>\n",
       "    <tr>\n",
       "      <th>08120080622042835</th>\n",
       "      <td>1333</td>\n",
       "    </tr>\n",
       "    <tr>\n",
       "      <th>08120080724032435</th>\n",
       "      <td>5541</td>\n",
       "    </tr>\n",
       "    <tr>\n",
       "      <th>08120080725034606</th>\n",
       "      <td>2168</td>\n",
       "    </tr>\n",
       "    <tr>\n",
       "      <th>08120080730084406</th>\n",
       "      <td>1565</td>\n",
       "    </tr>\n",
       "    <tr>\n",
       "      <th>12820080517020041</th>\n",
       "      <td>1888</td>\n",
       "    </tr>\n",
       "    <tr>\n",
       "      <th>12820090228164717</th>\n",
       "      <td>6177</td>\n",
       "    </tr>\n",
       "    <tr>\n",
       "      <th>12820090406003943</th>\n",
       "      <td>1294</td>\n",
       "    </tr>\n",
       "    <tr>\n",
       "      <th>12820091006014008</th>\n",
       "      <td>1971</td>\n",
       "    </tr>\n",
       "    <tr>\n",
       "      <th>12820100212072530</th>\n",
       "      <td>1003</td>\n",
       "    </tr>\n",
       "    <tr>\n",
       "      <th>12820101003000343</th>\n",
       "      <td>1758</td>\n",
       "    </tr>\n",
       "    <tr>\n",
       "      <th>17720090919171122</th>\n",
       "      <td>2955</td>\n",
       "    </tr>\n",
       "  </tbody>\n",
       "</table>\n",
       "</div>"
      ],
      "text/plain": [
       "                   COUNT\n",
       "TRACK_ID                \n",
       "08120080523014153  11841\n",
       "08120080524021405   2813\n",
       "08120080530065051   1912\n",
       "08120080530142423   1047\n",
       "08120080531130634   1142\n",
       "08120080602040534   1311\n",
       "08120080607094559   4487\n",
       "08120080619235223   1542\n",
       "08120080622042835   1333\n",
       "08120080724032435   5541\n",
       "08120080725034606   2168\n",
       "08120080730084406   1565\n",
       "12820080517020041   1888\n",
       "12820090228164717   6177\n",
       "12820090406003943   1294\n",
       "12820091006014008   1971\n",
       "12820100212072530   1003\n",
       "12820101003000343   1758\n",
       "17720090919171122   2955"
      ]
     },
     "execution_count": 8,
     "metadata": {},
     "output_type": "execute_result"
    }
   ],
   "source": [
    "track_groupby.agg(COUNT=NamedAgg(\"LAT\", \"count\")).query(\"COUNT>1000\")"
   ]
  },
  {
   "cell_type": "code",
   "execution_count": 9,
   "metadata": {},
   "outputs": [],
   "source": [
    "raw_traj_df = TrajDataFrame(\n",
    "    data=trajectory,\n",
    "    latitude=\"LAT\",\n",
    "    longitude=\"LON\",\n",
    "    datetime=\"EPOCH\",\n",
    "    user_id=\"TRACK_ID\",\n",
    "    #trajectory_id=\"\",\n",
    "    timestamp=True\n",
    ")"
   ]
  },
  {
   "cell_type": "code",
   "execution_count": 43,
   "metadata": {},
   "outputs": [
    {
     "name": "stderr",
     "output_type": "stream",
     "text": [
      "/home/apridya/dev/venv/data_science/lib/python3.11/site-packages/skmob/core/trajectorydataframe.py:569: UserWarning: Only the trajectories of the first 10 users will be plotted. Use the argument `max_users` to specify the desired number of users, or filter the TrajDataFrame.\n",
      "  return plot.plot_trajectory(self, map_f=map_f, max_users=max_users, max_points=max_points, style_function=style_function,\n"
     ]
    }
   ],
   "source": [
    "raw_traj_df.plot_trajectory(max_points=None).save(\"raw.html\")"
   ]
  },
  {
   "cell_type": "code",
   "execution_count": 95,
   "metadata": {},
   "outputs": [],
   "source": [
    "D = (trajectory\n",
    "        .assign(MOVE_ABILITY=np.nan, DENSITY=np.nan, CORE_POINT=False, CLUSTER=-1)\n",
    "        .sort_values(by=\"EPOCH\")\n",
    "        .reset_index(drop=True)\n",
    "        .astype({\"CLUSTER\": \"int16\"}))\n",
    "\n",
    "POINT_COLUMNS = [\"LAT\", \"LON\"]\n",
    "D_points = np.deg2rad(D[POINT_COLUMNS].values)\n",
    "\n",
    "distance_matrix = pairwise_distances(D_points, metric=\"haversine\") * 6_378_137\n",
    "\n",
    "Nap = 61\n",
    "\n",
    "distances_list = []\n",
    "MA_list = []\n",
    "\n",
    "for point_index in D.index:\n",
    "    offset_i = max(point_index - Nap, D.index[0])\n",
    "    offset_j = min(point_index + Nap, D.index[-1])\n",
    "\n",
    "    distances = distance_matrix[point_index][offset_i:offset_j]\n",
    "    distances = distances[np.nonzero(distances)]\n",
    "\n",
    "    distances_list.append(distances)\n",
    "\n",
    "    direct_distance = distance_matrix[offset_i][offset_j] # type: ignore\n",
    "    curve_distance = sum(distance_matrix[i][i+1] for i in range(offset_i, offset_j)) # type: ignore\n",
    "\n",
    "    MA = direct_distance / curve_distance\n",
    "    MA_list.append(MA)\n",
    "    D.loc[point_index, \"MOVE_ABILITY\"] = MA\n",
    "\n",
    "std_MA = np.std(MA_list)\n",
    "\n",
    "for point_index in D.index:\n",
    "    distances = distances_list[point_index]\n",
    "\n",
    "    std_distance = np.std(distances, ddof=1)\n",
    "    #mean_distance = np.mean(distances)\n",
    "\n",
    "    #impact = np.sum(np.exp(-((distances - mean_distance)**2) / (2 * std_distance**2)))\n",
    "    #impact = np.sum(np.exp(-((distances - std_distance)**2) / (2 * std_distance**2)))\n",
    "    #impact = np.sum(np.exp(-((distances - std_distance) / std_distance)**2)) ##\n",
    "    #impact = np.sum(np.exp(-(distances / 0.3)**2)) \n",
    "    impact = np.sum(np.exp(-(distances / std_distance)**2))\n",
    "                    \n",
    "    #mean_MA = np.mean(MA_list)\n",
    "\n",
    "    #density = impact * np.exp(-((MA_list[point_index] - mean_MA)**2) / (2 * std_MA**2))\n",
    "    #density = impact * np.exp(-((MA_list[point_index] - std_MA)**2) / (2 * std_MA**2))\n",
    "    #density = impact * np.exp(-((MA_list[point_index] - std_MA) / std_MA)**2) ##\n",
    "    #density = impact * np.exp(-(MA_list[point_index] / 0.5)**2)\n",
    "    density = impact * np.exp(-(MA_list[point_index] / std_MA)**2)\n",
    "    \n",
    "    #print(f\"point_index: {point_index} | density: {density} | min_density: {0.5} | core_point: {density > 0.5}\")\n",
    "\n",
    "    D.loc[point_index, \"DENSITY\"] = density\n",
    "\n",
    "    if density > 20:\n",
    "        D.loc[point_index, \"CORE_POINT\"] = True\n",
    "\n",
    "\n",
    "C = 0\n",
    "core_point_mask = D.CORE_POINT==True\n",
    "for key, group in D[core_point_mask].groupby((~core_point_mask).cumsum()):\n",
    "    D.loc[group.index, \"CLUSTER\"] = C\n",
    "    C += 1"
   ]
  },
  {
   "cell_type": "code",
   "execution_count": 103,
   "metadata": {},
   "outputs": [],
   "source": [
    "from functools import reduce"
   ]
  },
  {
   "cell_type": "code",
   "execution_count": 115,
   "metadata": {},
   "outputs": [
    {
     "ename": "ValueError",
     "evalue": "setting an array element with a sequence. The requested array has an inhomogeneous shape after 1 dimensions. The detected shape was (11841,) + inhomogeneous part.",
     "output_type": "error",
     "traceback": [
      "\u001b[0;31m---------------------------------------------------------------------------\u001b[0m",
      "\u001b[0;31mValueError\u001b[0m                                Traceback (most recent call last)",
      "Cell \u001b[0;32mIn[115], line 1\u001b[0m\n\u001b[0;32m----> 1\u001b[0m np\u001b[39m.\u001b[39;49marray(distances_list)\n",
      "\u001b[0;31mValueError\u001b[0m: setting an array element with a sequence. The requested array has an inhomogeneous shape after 1 dimensions. The detected shape was (11841,) + inhomogeneous part."
     ]
    }
   ],
   "source": []
  },
  {
   "cell_type": "code",
   "execution_count": 102,
   "metadata": {},
   "outputs": [
    {
     "ename": "ValueError",
     "evalue": "setting an array element with a sequence. The requested array has an inhomogeneous shape after 1 dimensions. The detected shape was (11841,) + inhomogeneous part.",
     "output_type": "error",
     "traceback": [
      "\u001b[0;31m---------------------------------------------------------------------------\u001b[0m",
      "\u001b[0;31mValueError\u001b[0m                                Traceback (most recent call last)",
      "Cell \u001b[0;32mIn[102], line 1\u001b[0m\n\u001b[0;32m----> 1\u001b[0m np\u001b[39m.\u001b[39;49mstd([d \u001b[39mfor\u001b[39;49;00m d \u001b[39min\u001b[39;49;00m distances_list])\n",
      "File \u001b[0;32m~/dev/venv/data_science/lib/python3.11/site-packages/numpy/core/fromnumeric.py:3645\u001b[0m, in \u001b[0;36mstd\u001b[0;34m(a, axis, dtype, out, ddof, keepdims, where)\u001b[0m\n\u001b[1;32m   3642\u001b[0m     \u001b[39melse\u001b[39;00m:\n\u001b[1;32m   3643\u001b[0m         \u001b[39mreturn\u001b[39;00m std(axis\u001b[39m=\u001b[39maxis, dtype\u001b[39m=\u001b[39mdtype, out\u001b[39m=\u001b[39mout, ddof\u001b[39m=\u001b[39mddof, \u001b[39m*\u001b[39m\u001b[39m*\u001b[39mkwargs)\n\u001b[0;32m-> 3645\u001b[0m \u001b[39mreturn\u001b[39;00m _methods\u001b[39m.\u001b[39;49m_std(a, axis\u001b[39m=\u001b[39;49maxis, dtype\u001b[39m=\u001b[39;49mdtype, out\u001b[39m=\u001b[39;49mout, ddof\u001b[39m=\u001b[39;49mddof,\n\u001b[1;32m   3646\u001b[0m                      \u001b[39m*\u001b[39;49m\u001b[39m*\u001b[39;49mkwargs)\n",
      "File \u001b[0;32m~/dev/venv/data_science/lib/python3.11/site-packages/numpy/core/_methods.py:206\u001b[0m, in \u001b[0;36m_std\u001b[0;34m(a, axis, dtype, out, ddof, keepdims, where)\u001b[0m\n\u001b[1;32m    204\u001b[0m \u001b[39mdef\u001b[39;00m \u001b[39m_std\u001b[39m(a, axis\u001b[39m=\u001b[39m\u001b[39mNone\u001b[39;00m, dtype\u001b[39m=\u001b[39m\u001b[39mNone\u001b[39;00m, out\u001b[39m=\u001b[39m\u001b[39mNone\u001b[39;00m, ddof\u001b[39m=\u001b[39m\u001b[39m0\u001b[39m, keepdims\u001b[39m=\u001b[39m\u001b[39mFalse\u001b[39;00m, \u001b[39m*\u001b[39m,\n\u001b[1;32m    205\u001b[0m          where\u001b[39m=\u001b[39m\u001b[39mTrue\u001b[39;00m):\n\u001b[0;32m--> 206\u001b[0m     ret \u001b[39m=\u001b[39m _var(a, axis\u001b[39m=\u001b[39;49maxis, dtype\u001b[39m=\u001b[39;49mdtype, out\u001b[39m=\u001b[39;49mout, ddof\u001b[39m=\u001b[39;49mddof,\n\u001b[1;32m    207\u001b[0m                keepdims\u001b[39m=\u001b[39;49mkeepdims, where\u001b[39m=\u001b[39;49mwhere)\n\u001b[1;32m    209\u001b[0m     \u001b[39mif\u001b[39;00m \u001b[39misinstance\u001b[39m(ret, mu\u001b[39m.\u001b[39mndarray):\n\u001b[1;32m    210\u001b[0m         ret \u001b[39m=\u001b[39m um\u001b[39m.\u001b[39msqrt(ret, out\u001b[39m=\u001b[39mret)\n",
      "File \u001b[0;32m~/dev/venv/data_science/lib/python3.11/site-packages/numpy/core/_methods.py:137\u001b[0m, in \u001b[0;36m_var\u001b[0;34m(a, axis, dtype, out, ddof, keepdims, where)\u001b[0m\n\u001b[1;32m    135\u001b[0m \u001b[39mdef\u001b[39;00m \u001b[39m_var\u001b[39m(a, axis\u001b[39m=\u001b[39m\u001b[39mNone\u001b[39;00m, dtype\u001b[39m=\u001b[39m\u001b[39mNone\u001b[39;00m, out\u001b[39m=\u001b[39m\u001b[39mNone\u001b[39;00m, ddof\u001b[39m=\u001b[39m\u001b[39m0\u001b[39m, keepdims\u001b[39m=\u001b[39m\u001b[39mFalse\u001b[39;00m, \u001b[39m*\u001b[39m,\n\u001b[1;32m    136\u001b[0m          where\u001b[39m=\u001b[39m\u001b[39mTrue\u001b[39;00m):\n\u001b[0;32m--> 137\u001b[0m     arr \u001b[39m=\u001b[39m asanyarray(a)\n\u001b[1;32m    139\u001b[0m     rcount \u001b[39m=\u001b[39m _count_reduce_items(arr, axis, keepdims\u001b[39m=\u001b[39mkeepdims, where\u001b[39m=\u001b[39mwhere)\n\u001b[1;32m    140\u001b[0m     \u001b[39m# Make this warning show up on top.\u001b[39;00m\n",
      "\u001b[0;31mValueError\u001b[0m: setting an array element with a sequence. The requested array has an inhomogeneous shape after 1 dimensions. The detected shape was (11841,) + inhomogeneous part."
     ]
    }
   ],
   "source": [
    "np.std([d for d in distances_list])"
   ]
  },
  {
   "cell_type": "code",
   "execution_count": 96,
   "metadata": {},
   "outputs": [],
   "source": [
    "# matrix = [\n",
    "#     [0., 8759.50800871, 11400.82921578, 11425.27565626, 11676.81783857, 967.39320366, 9341.45447829, 9349.23178613, 9366.84878002, 9547.46867945],\n",
    "#     [8759.50800871, 0., 2993.39146241, 3024.04213275, 3294.96156234, 7795.59552598, 1455.77770234, 1460.1930584, 1471.22269664, 1611.29013223],\n",
    "#     [11400.82921578, 2993.39146241, 0., 31.79613957, 301.57210742, 10435.40327943, 2060.49756117, 2052.75805064, 2035.27041578, 1858.15070945],\n",
    "#     [11425.27565626, 3024.04213275, 31.79613957, 0., 271.10316391, 10459.96579704, 2084.41337351, 2076.66240913, 2059.13770534, 1881.31742212],\n",
    "#     [11676.81783857, 3294.96156234, 301.57210742, 271.10316391, 0., 10712.12353446, 2335.72675004, 2327.9336697, 2310.26309486, 2129.48108496]\n",
    "# ]"
   ]
  },
  {
   "cell_type": "code",
   "execution_count": 97,
   "metadata": {},
   "outputs": [
    {
     "data": {
      "text/plain": [
       "array([-1,  0,  1,  2,  3,  4,  5,  6,  7,  8,  9, 10, 11, 12, 13, 14, 15,\n",
       "       16, 17, 18, 19, 20, 21, 22, 23, 24, 25, 26, 27, 28, 29, 30, 31, 32,\n",
       "       33, 34, 35, 36, 37, 38, 39, 40, 41, 42, 43, 44, 45, 46, 47, 48, 49,\n",
       "       50, 51, 52, 53, 54, 55, 56, 57, 58, 59, 60, 61, 62, 63, 64, 65, 66,\n",
       "       67, 68, 69, 70, 71, 72, 73, 74, 75, 76, 77, 78, 79, 80, 81, 82, 83,\n",
       "       84, 85, 86, 87, 88, 89], dtype=int16)"
      ]
     },
     "execution_count": 97,
     "metadata": {},
     "output_type": "execute_result"
    }
   ],
   "source": [
    "D.CLUSTER.unique()"
   ]
  },
  {
   "cell_type": "code",
   "execution_count": 98,
   "metadata": {},
   "outputs": [
    {
     "data": {
      "text/html": [
       "<div>\n",
       "<style scoped>\n",
       "    .dataframe tbody tr th:only-of-type {\n",
       "        vertical-align: middle;\n",
       "    }\n",
       "\n",
       "    .dataframe tbody tr th {\n",
       "        vertical-align: top;\n",
       "    }\n",
       "\n",
       "    .dataframe thead th {\n",
       "        text-align: right;\n",
       "    }\n",
       "</style>\n",
       "<table border=\"1\" class=\"dataframe\">\n",
       "  <thead>\n",
       "    <tr style=\"text-align: right;\">\n",
       "      <th></th>\n",
       "      <th>LAT</th>\n",
       "      <th>LON</th>\n",
       "      <th>ALT</th>\n",
       "      <th>DATETIME</th>\n",
       "      <th>TRACK_ID</th>\n",
       "      <th>EPOCH</th>\n",
       "      <th>GEOMETRY</th>\n",
       "      <th>MOVE_ABILITY</th>\n",
       "      <th>DENSITY</th>\n",
       "      <th>CORE_POINT</th>\n",
       "      <th>CLUSTER</th>\n",
       "    </tr>\n",
       "  </thead>\n",
       "  <tbody>\n",
       "  </tbody>\n",
       "</table>\n",
       "</div>"
      ],
      "text/plain": [
       "Empty GeoDataFrame\n",
       "Columns: [LAT, LON, ALT, DATETIME, TRACK_ID, EPOCH, GEOMETRY, MOVE_ABILITY, DENSITY, CORE_POINT, CLUSTER]\n",
       "Index: []"
      ]
     },
     "execution_count": 98,
     "metadata": {},
     "output_type": "execute_result"
    }
   ],
   "source": [
    "D.loc[D.CLUSTER==0][50:100]"
   ]
  },
  {
   "cell_type": "code",
   "execution_count": 99,
   "metadata": {},
   "outputs": [],
   "source": [
    "traj_df = TrajDataFrame(\n",
    "    data=D.loc[D.CLUSTER>-1],\n",
    "    latitude=\"LAT\",\n",
    "    longitude=\"LON\",\n",
    "    datetime=\"EPOCH\",\n",
    "    user_id=\"CLUSTER\",\n",
    "    #trajectory_id=\"\",\n",
    "    timestamp=True\n",
    ") # type: ignore"
   ]
  },
  {
   "cell_type": "code",
   "execution_count": 100,
   "metadata": {},
   "outputs": [
    {
     "name": "stderr",
     "output_type": "stream",
     "text": [
      "/home/apridya/dev/venv/data_science/lib/python3.11/site-packages/skmob/core/trajectorydataframe.py:569: UserWarning: If necessary, trajectories will be down-sampled to have at most `max_points` points. To avoid this, specify `max_points=None`.\n",
      "  return plot.plot_trajectory(self, map_f=map_f, max_users=max_users, max_points=max_points, style_function=style_function,\n"
     ]
    }
   ],
   "source": [
    "traj_df.plot_trajectory(max_users=100, max_points=10_000).save(\"test.html\")"
   ]
  },
  {
   "cell_type": "code",
   "execution_count": 162,
   "metadata": {},
   "outputs": [],
   "source": [
    "Y = D.DENSITY.sort_values(ascending=True).values\n",
    "X = np.linspace(0, Y.shape[0], num=Y.shape[0])"
   ]
  },
  {
   "cell_type": "code",
   "execution_count": 156,
   "metadata": {},
   "outputs": [],
   "source": [
    "import kneed"
   ]
  },
  {
   "cell_type": "code",
   "execution_count": null,
   "metadata": {},
   "outputs": [],
   "source": []
  },
  {
   "cell_type": "code",
   "execution_count": 160,
   "metadata": {},
   "outputs": [],
   "source": [
    "kneedle = kneed.KneeLocator(x=X, y=Y, curve=\"concave\")"
   ]
  },
  {
   "cell_type": "code",
   "execution_count": 161,
   "metadata": {},
   "outputs": [
    {
     "data": {
      "image/png": "[encoded data removed]",
      "text/plain": [
       "<Figure size 600x600 with 1 Axes>"
      ]
     },
     "metadata": {},
     "output_type": "display_data"
    }
   ],
   "source": [
    "kneedle.plot_knee_normalized()"
   ]
  },
  {
   "cell_type": "code",
   "execution_count": null,
   "metadata": {},
   "outputs": [],
   "source": []
  }
 ],
 "metadata": {
  "kernelspec": {
   "display_name": "data_science",
   "language": "python",
   "name": "python3"
  },
  "language_info": {
   "codemirror_mode": {
    "name": "ipython",
    "version": 3
   },
   "file_extension": ".py",
   "mimetype": "text/x-python",
   "name": "python",
   "nbconvert_exporter": "python",
   "pygments_lexer": "ipython3",
   "version": "3.11.5"
  },
  "orig_nbformat": 4
 },
 "nbformat": 4,
 "nbformat_minor": 2
}
